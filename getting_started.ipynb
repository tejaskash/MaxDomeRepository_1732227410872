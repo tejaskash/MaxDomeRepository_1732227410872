{
 "cells": [
  {
   "cell_type": "markdown",
   "metadata": {},
   "source": [
    "# SageMaker Unified Studio Notebooks\n",
    "\n",
    "SageMaker Unified Studio notebooks provide an introduction to using SageMaker Unified Studio connections with Python kernel for Spark and Big Data applications. It serves as a beginner's guide to understanding the notebook functionality for those new to SageMaker Unified Studio connections."
   ]
  }
 ],
 "metadata": {
  "kernelspec": {
   "display_name": "Glue PySpark",
   "language": "python",
   "name": "glue_pyspark"
  },
  "language_info": {
   "codemirror_mode": {
    "name": "python",
    "version": 3
   },
   "file_extension": ".py",
   "mimetype": "text/x-python",
   "name": "Python_Glue_Session",
   "pygments_lexer": "python3"
  }
 },
 "nbformat": 4,
 "nbformat_minor": 2
}
